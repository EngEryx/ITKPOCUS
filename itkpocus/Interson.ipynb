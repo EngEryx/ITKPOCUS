{
 "cells": [
  {
   "cell_type": "raw",
   "id": "exterior-giving",
   "metadata": {},
   "source": [
    "// from Interson for parsing .bs\n",
    "\n",
    "typedef struct tagPROBEPARAMS\n",
    "{\n",
    "int iDepth;\n",
    "int iFrequencyIdx;\n",
    "float fFrequency;\n",
    "int iNearGain;\n",
    "int iMidGain;\n",
    "int iFarGain;\n",
    "int iContrast;\n",
    "int iIntensity;\n",
    "float fVoltage;\n",
    "} PROBEPARAMS;\n",
    "\n",
    "typedef struct tagDOWNLOADSETTINGS\n",
    "{\n",
    "int iProbeID;\n",
    "bool bBIDIR;\n",
    "bool bRFProbe;\n",
    "bool b360Probe;\n",
    "PROBEPARAMS probeParams;\n",
    "int iYDisplayOffset;\n",
    "bool bImgLeftOrientation;\n",
    "bool bImgTopOrientation;\n",
    "int iImageRotation;\n",
    "int iFrameScanRate;\n",
    "bool bAveraging;\n",
    "int iImageSector;\n",
    "float fScanRadius;\n",
    "int iCompoundAngle;\n",
    "bool bCompoundEnabled;\n",
    "bool bDoublerEnabled;\n",
    "int iSteeringAngle;\n",
    "short shCineCompressionRatio;\n",
    "int iNumberOfCineFrames;\n",
    "bool bCineCFMmode;\n",
    "int iCFMVectors;\n",
    "int iCFMSamples;\n",
    "} DOWNLOADSETTINGS;\n",
    "\n",
    "\n",
    "// reading a cine file into a buffer\n",
    "DOWNLOADSETTINGS dwnSettings;\n",
    "unsigned char *CineBuffer;\n",
    "unsigned char *CFMCineBuffer;\n",
    "int fileversion;\n",
    "char tmpbuffer[1164];\n",
    "char *imgbuffer;\n",
    "\n",
    "file = _wfopen (pstrFileName, _T(\"rb\");\n",
    "\n",
    "fread(&fileversion, 1, sizeof(int), file);\n",
    "fread(&dwnSettings, 1, sizeof(DOWNLOADSETTINGS), file);\n",
    "fread(&tmpbuffer, 1, 1164, file);\n",
    "\n",
    "int length = 127 * 1024 * dwnSettings.iNumberOfCineFrames;\n",
    "fread(CineBuffer, 1, length, file);\n",
    "\n",
    "// in case the CFM-mode is used\n",
    "if (dwnSettings.bCineCFMmode)\n",
    "{\n",
    "int CFMCineLength = dwnSettings.iNumberOfCineFrames * dwnSettings.iCFMVectors * dwnSettings.iCFMSamples;\n",
    "fread(CFMCineBuffer, 1, CFMCineLength, file);\n",
    "}"
   ]
  },
  {
   "cell_type": "code",
   "execution_count": 1,
   "id": "stopped-irrigation",
   "metadata": {},
   "outputs": [],
   "source": [
    "# windows-only, hopefully don't need to worry about endian\n",
    "from struct import unpack, calcsize\n",
    "\n",
    "class ProbeSettings:\n",
    "    FORMAT_STR = 'iifiiiiif'\n",
    "    \n",
    "    def __init__(self, depth, frequency_idx, frequency, near_gain, mid_gain, far_gain, contrast, intensity, voltage):\n",
    "        self.depth = depth\n",
    "        self.frequency_idx = frequency_idx\n",
    "        self.frequency = frequency\n",
    "        self.near_gain = near_gain\n",
    "        self.mid_gain = mid_gain\n",
    "        self.far_gain = far_gain\n",
    "        self.contrast = contrast\n",
    "        self.intensity = intensity\n",
    "        self.voltage = voltage\n",
    "        \n",
    "    def __str__(self):\n",
    "        return  str(self.__class__) + '\\n' + '\\n'.join((str(item) + ' = ' + str(self.__dict__[item]) for item in sorted(self.__dict__)))    \n",
    "    \n",
    "class DownloadSettings:\n",
    "    FORMAT_STR = 'i???' + ProbeSettings.FORMAT_STR + 'i??ii?ifi??ihi?ii'\n",
    "    def __init__(self, probe_id, bidir, rf_probe, b360_probe, depth, frequency_idx, frequency, near_gain, mid_gain, far_gain, contrast, intensity, voltage, y_display_offset, img_left_orientation, img_top_orientation, image_rotation, frame_scan_rate, averaging, image_sector, scan_radius, compound_angle, compound_enabled, doubler_enabled, steering_angle, cine_compression_ratio, number_of_cine_frames, cine_cfm_mode, cfm_vectors, cfm_samples):\n",
    "        self.probe_id = probe_id\n",
    "        self.bidir = bidir\n",
    "        self.rf_probe = rf_probe\n",
    "        self.b360_probe = b360_probe\n",
    "        self.probe_settings = ProbeSettings(depth, frequency_idx, frequency, near_gain, mid_gain, far_gain, contrast, intensity, voltage)\n",
    "        self.y_display_offset = y_display_offset\n",
    "        self.img_left_orientation = img_left_orientation\n",
    "        self.img_top_orientation = img_top_orientation\n",
    "        self.image_rotation = image_rotation\n",
    "        self.frame_scan_rate = frame_scan_rate\n",
    "        self.averaging = averaging\n",
    "        self.image_sector = image_sector\n",
    "        self.scan_radius = scan_radius\n",
    "        self.compound_angle = compound_angle\n",
    "        self.compound_enabled = compound_enabled\n",
    "        self.doubler_enabled = doubler_enabled\n",
    "        self.steering_angle = steering_angle\n",
    "        self.cine_compression_ratio = cine_compression_ratio\n",
    "        self.number_of_cine_frames = number_of_cine_frames\n",
    "        self.cine_cfm_mode = cine_cfm_mode\n",
    "        self.cmf_vectors = cfm_vectors\n",
    "        self.cfm_samples = cfm_samples\n",
    "    def __str__(self):\n",
    "        return  str(self.__class__) + '\\n' + '\\n'.join((str(item) + ' = ' + str(self.__dict__[item]) for item in sorted(self.__dict__)))\n",
    "    \n",
    "def load_video(fp):\n",
    "    with open(fp, mode='rb') as f:\n",
    "        version = unpack('i', f.read(calcsize('i')))\n",
    "        download_settings = DownloadSettings(*unpack(DownloadSettings.FORMAT_STR, f.read(calcsize(DownloadSettings.FORMAT_STR))))\n",
    "        tmp_buffer = f.read(1164)\n",
    "        length = 127 * 1024 * download_settings.number_of_cine_frames\n",
    "        cine_buffer = bytearray(f.read(length))\n",
    "        \n",
    "        cfm_cine_length = None\n",
    "        cfm_cine_buffer = None\n",
    "        if download_settings.cine_cfm_mode:\n",
    "            cfm_cine_length = download_settings.number_of_cine_frames * download_settings.cfm_vectors * download_settings.cfm_samples\n",
    "            cfm_cine_buffer = f.read(cfm_cine_length)\n",
    "    \n",
    "    return version, download_settings, tmp_buffer, length, cine_buffer, cfm_cine_length, cfm_cine_buffer\n",
    "        \n"
   ]
  },
  {
   "cell_type": "code",
   "execution_count": 2,
   "id": "unique-spain",
   "metadata": {},
   "outputs": [],
   "source": [
    "result = load_video('C:\\\\Users\\\\brad.moore\\\\Desktop\\\\test1.cine')"
   ]
  },
  {
   "cell_type": "code",
   "execution_count": 4,
   "id": "certain-excellence",
   "metadata": {},
   "outputs": [],
   "source": [
    "import itk"
   ]
  },
  {
   "cell_type": "code",
   "execution_count": 5,
   "id": "ignored-delay",
   "metadata": {},
   "outputs": [],
   "source": [
    "size = (127, 1024, result[1].number_of_cine_frames)\n",
    "img = itk.Image[itk.UC, 3].New()"
   ]
  },
  {
   "cell_type": "code",
   "execution_count": 6,
   "id": "psychological-recorder",
   "metadata": {},
   "outputs": [],
   "source": [
    "img.SetRegions(itk.ImageRegion[3](size))\n",
    "img.Allocate()"
   ]
  },
  {
   "cell_type": "code",
   "execution_count": 7,
   "id": "continuing-radar",
   "metadata": {},
   "outputs": [],
   "source": [
    "import ctypes\n",
    "c_ptr = img.GetBufferPointer()"
   ]
  },
  {
   "cell_type": "code",
   "execution_count": 8,
   "id": "mature-party",
   "metadata": {},
   "outputs": [],
   "source": [
    "c_tmp_buffer = ctypes.c_uint8 * (size[0] * size[1] * size[2])"
   ]
  },
  {
   "cell_type": "code",
   "execution_count": 9,
   "id": "expected-supplement",
   "metadata": {},
   "outputs": [],
   "source": [
    "c_buffer = c_tmp_buffer.from_buffer(result[4])"
   ]
  },
  {
   "cell_type": "code",
   "execution_count": 10,
   "id": "completed-policy",
   "metadata": {},
   "outputs": [
    {
     "data": {
      "text/plain": [
       "2709700128864"
      ]
     },
     "execution_count": 10,
     "metadata": {},
     "output_type": "execute_result"
    }
   ],
   "source": [
    "ctypes.memmove(ctypes.c_void_p(int(c_ptr)), c_buffer, size[0] * size[1] * size[2])"
   ]
  },
  {
   "cell_type": "code",
   "execution_count": 11,
   "id": "consecutive-intro",
   "metadata": {},
   "outputs": [
    {
     "data": {
      "text/plain": [
       "SwigPyObject"
      ]
     },
     "execution_count": 11,
     "metadata": {},
     "output_type": "execute_result"
    }
   ],
   "source": [
    "type(c_ptr)"
   ]
  },
  {
   "cell_type": "code",
   "execution_count": 12,
   "id": "authorized-option",
   "metadata": {},
   "outputs": [
    {
     "name": "stdout",
     "output_type": "stream",
     "text": [
      "<itkTemplate itk::Index>\n",
      "Options:\n",
      "  [1,]\n",
      "  [2,]\n",
      "  [3,]\n",
      "  [4,]\n",
      "  [5,]\n"
     ]
    }
   ],
   "source": [
    "itk.Index.GetTypes()"
   ]
  },
  {
   "cell_type": "code",
   "execution_count": 13,
   "id": "cathedral-patrick",
   "metadata": {},
   "outputs": [],
   "source": [
    "def write_to_image(img, input_array):\n",
    "    size = list(img.GetLargestPossibleRegion().GetSize())\n",
    "    p = 0\n",
    "    idx = itk.Index[3]()\n",
    "    idx_map = [2, 0, 1]\n",
    "    for i in range(size[idx_map[0]]):\n",
    "        idx.SetElement(idx_map[0], i)\n",
    "        for j in range(size[idx_map[1]]):\n",
    "            idx.SetElement(idx_map[1], j)\n",
    "            for k in range(size[idx_map[2]]):\n",
    "                idx.SetElement(idx_map[2], k)\n",
    "                img.SetPixel(idx, input_array[p])\n",
    "                p += 1\n"
   ]
  },
  {
   "cell_type": "code",
   "execution_count": null,
   "id": "vocational-disaster",
   "metadata": {},
   "outputs": [],
   "source": [
    "print(len(result[4]))\n",
    "print(img)\n"
   ]
  },
  {
   "cell_type": "code",
   "execution_count": 15,
   "id": "introductory-aerospace",
   "metadata": {},
   "outputs": [],
   "source": [
    "write_to_image(img, result[4])"
   ]
  },
  {
   "cell_type": "code",
   "execution_count": 24,
   "id": "a151c579-b5df-4f99-ba80-b64ce005b58d",
   "metadata": {},
   "outputs": [
    {
     "name": "stdout",
     "output_type": "stream",
     "text": [
      "Image (00000276E5AB5430)\n",
      "  RTTI typeinfo:   class itk::Image<unsigned char,3>\n",
      "  Reference Count: 1\n",
      "  Modified Time: 4\n",
      "  Debug: Off\n",
      "  Object Name: \n",
      "  Observers: \n",
      "    none\n",
      "  Source: (none)\n",
      "  Source output name: (none)\n",
      "  Release Data: Off\n",
      "  Data Released: False\n",
      "  Global Release Data: Off\n",
      "  PipelineMTime: 0\n",
      "  UpdateMTime: 0\n",
      "  RealTimeStamp: 0 seconds \n",
      "  LargestPossibleRegion: \n",
      "    Dimension: 3\n",
      "    Index: [0, 0, 0]\n",
      "    Size: [127, 1024, 128]\n",
      "  BufferedRegion: \n",
      "    Dimension: 3\n",
      "    Index: [0, 0, 0]\n",
      "    Size: [127, 1024, 128]\n",
      "  RequestedRegion: \n",
      "    Dimension: 3\n",
      "    Index: [0, 0, 0]\n",
      "    Size: [127, 1024, 128]\n",
      "  Spacing: [1, 1, 1]\n",
      "  Origin: [0, 0, 0]\n",
      "  Direction: \n",
      "1 0 0\n",
      "0 1 0\n",
      "0 0 1\n",
      "\n",
      "  IndexToPointMatrix: \n",
      "1 0 0\n",
      "0 1 0\n",
      "0 0 1\n",
      "\n",
      "  PointToIndexMatrix: \n",
      "1 0 0\n",
      "0 1 0\n",
      "0 0 1\n",
      "\n",
      "  Inverse Direction: \n",
      "1 0 0\n",
      "0 1 0\n",
      "0 0 1\n",
      "\n",
      "  PixelContainer: \n",
      "    ImportImageContainer (00000276C9E43260)\n",
      "      RTTI typeinfo:   class itk::ImportImageContainer<unsigned __int64,unsigned char>\n",
      "      Reference Count: 1\n",
      "      Modified Time: 5\n",
      "      Debug: Off\n",
      "      Object Name: \n",
      "      Observers: \n",
      "        none\n",
      "      Pointer: 00000276E6B6B060\n",
      "      Container manages memory: true\n",
      "      Size: 16646144\n",
      "      Capacity: 16646144\n",
      "\n"
     ]
    }
   ],
   "source": [
    "print(img)"
   ]
  },
  {
   "cell_type": "code",
   "execution_count": 29,
   "id": "palestinian-hardware",
   "metadata": {},
   "outputs": [
    {
     "data": {
      "application/vnd.jupyter.widget-view+json": {
       "model_id": "003f652e7e264e3e9c64895e572e8459",
       "version_major": 2,
       "version_minor": 0
      },
      "image/png": "[encoded data removed]",
      "text/plain": [
       "Canvas(toolbar=Toolbar(toolitems=[('Home', 'Reset original view', 'home', 'home'), ('Back', 'Back to previous …"
      ]
     },
     "metadata": {},
     "output_type": "display_data"
    }
   ],
   "source": [
    "%matplotlib widget\n",
    "import matplotlib.pyplot as plt\n",
    "from ipywidgets import interact\n",
    "\n",
    "@interact(x=(0, npimg.shape[2]-1,1))\n",
    "def foo(x=0):\n",
    "    plt.imshow(img[x,:,:], cmap='gray')"
   ]
  },
  {
   "cell_type": "code",
   "execution_count": null,
   "id": "tribal-spectrum",
   "metadata": {},
   "outputs": [],
   "source": []
  }
 ],
 "metadata": {
  "kernelspec": {
   "display_name": "Python 3 (ipykernel)",
   "language": "python",
   "name": "python3"
  },
  "language_info": {
   "codemirror_mode": {
    "name": "ipython",
    "version": 3
   },
   "file_extension": ".py",
   "mimetype": "text/x-python",
   "name": "python",
   "nbconvert_exporter": "python",
   "pygments_lexer": "ipython3",
   "version": "3.7.6"
  }
 },
 "nbformat": 4,
 "nbformat_minor": 5
}
